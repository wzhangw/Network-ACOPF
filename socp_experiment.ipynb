{
 "cells": [
  {
   "cell_type": "code",
   "execution_count": 1,
   "metadata": {},
   "outputs": [
    {
     "name": "stderr",
     "output_type": "stream",
     "text": [
      "┌ Info: Precompiling COSMO [1e616198-aa4e-51ec-90a2-23f7fbd31d8d]\n",
      "└ @ Base loading.jl:1273\n",
      "┌ Info: Precompiling MosekTools [1ec41992-ff65-5c91-ac43-2df89e9693a4]\n",
      "└ @ Base loading.jl:1273\n"
     ]
    },
    {
     "data": {
      "text/plain": [
       "MathOptInterface"
      ]
     },
     "execution_count": 1,
     "metadata": {},
     "output_type": "execute_result"
    }
   ],
   "source": [
    "using PowerModels, Gurobi, Ipopt, JuMP, COSMO, Mosek, MosekTools, MathOptInterface\n",
    "const MOI = MathOptInterface"
   ]
  },
  {
   "cell_type": "code",
   "execution_count": 20,
   "metadata": {},
   "outputs": [
    {
     "data": {
      "text/plain": [
       "\"case5.m\""
      ]
     },
     "execution_count": 20,
     "metadata": {},
     "output_type": "execute_result"
    }
   ],
   "source": [
    "# file = \"/home/weiqizhang/.julia/packages/PowerModels/fEPoB/test/data/matpower/case5.m\"\n",
    "file = \"case5.m\""
   ]
  },
  {
   "cell_type": "code",
   "execution_count": 22,
   "metadata": {},
   "outputs": [
    {
     "name": "stdout",
     "output_type": "stream",
     "text": [
      "\u001b[35m[warn | PowerModels]: this code only supports angmin values in -90 deg. to 90 deg., tightening the value on branch 4 from -360.0 to -60.0 deg.\u001b[39m\n",
      "\u001b[35m[warn | PowerModels]: this code only supports angmax values in -90 deg. to 90 deg., tightening the value on branch 4 from 360.0 to 60.0 deg.\u001b[39m\n",
      "\u001b[35m[warn | PowerModels]: this code only supports angmin values in -90 deg. to 90 deg., tightening the value on branch 1 from -360.0 to -60.0 deg.\u001b[39m\n",
      "\u001b[35m[warn | PowerModels]: this code only supports angmax values in -90 deg. to 90 deg., tightening the value on branch 1 from 360.0 to 60.0 deg.\u001b[39m\n",
      "\u001b[35m[warn | PowerModels]: this code only supports angmin values in -90 deg. to 90 deg., tightening the value on branch 5 from -360.0 to -60.0 deg.\u001b[39m\n",
      "\u001b[35m[warn | PowerModels]: this code only supports angmax values in -90 deg. to 90 deg., tightening the value on branch 5 from 360.0 to 60.0 deg.\u001b[39m\n",
      "\u001b[35m[warn | PowerModels]: this code only supports angmin values in -90 deg. to 90 deg., tightening the value on branch 2 from -360.0 to -60.0 deg.\u001b[39m\n",
      "\u001b[35m[warn | PowerModels]: this code only supports angmax values in -90 deg. to 90 deg., tightening the value on branch 2 from 360.0 to 60.0 deg.\u001b[39m\n",
      "\u001b[35m[warn | PowerModels]: this code only supports angmin values in -90 deg. to 90 deg., tightening the value on branch 6 from -360.0 to -60.0 deg.\u001b[39m\n",
      "\u001b[35m[warn | PowerModels]: this code only supports angmax values in -90 deg. to 90 deg., tightening the value on branch 6 from 360.0 to 60.0 deg.\u001b[39m\n",
      "\u001b[35m[warn | PowerModels]: this code only supports angmin values in -90 deg. to 90 deg., tightening the value on branch 3 from -360.0 to -60.0 deg.\u001b[39m\n",
      "\u001b[35m[warn | PowerModels]: this code only supports angmax values in -90 deg. to 90 deg., tightening the value on branch 3 from 360.0 to 60.0 deg.\u001b[39m\n",
      "This is Ipopt version 3.13.2, running with linear solver mumps.\n",
      "NOTE: Other linear solvers might be more efficient (see Ipopt documentation).\n",
      "\n",
      "Number of nonzeros in equality constraint Jacobian...:      124\n",
      "Number of nonzeros in inequality constraint Jacobian.:       68\n",
      "Number of nonzeros in Lagrangian Hessian.............:       26\n",
      "\n",
      "Total number of variables............................:       45\n",
      "                     variables with only lower bounds:        4\n",
      "                variables with lower and upper bounds:       25\n",
      "                     variables with only upper bounds:        0\n",
      "Total number of equality constraints.................:       28\n",
      "Total number of inequality constraints...............:       22\n",
      "        inequality constraints with only lower bounds:        6\n",
      "   inequality constraints with lower and upper bounds:        0\n",
      "        inequality constraints with only upper bounds:       16\n",
      "\n",
      "iter    objective    inf_pr   inf_du lg(mu)  ||d||  lg(rg) alpha_du alpha_pr  ls\n",
      "   0  1.0059989e+02 3.99e+00 2.87e+01  -1.0 0.00e+00    -  0.00e+00 0.00e+00   0\n",
      "   1  2.0021595e+02 3.97e+00 2.85e+01  -1.0 5.56e+00    -  3.99e-03 4.68e-03H  1\n",
      "   2  1.9584839e+02 3.94e+00 2.83e+01  -1.0 1.31e+01    -  7.01e-03 6.98e-03f  1\n",
      "   3  4.4034360e+02 3.85e+00 2.78e+01  -1.0 9.00e+00    -  2.02e-02 2.45e-02h  1\n",
      "   4  1.1917193e+03 3.57e+00 2.76e+01  -1.0 8.08e+00    -  3.73e-02 7.26e-02h  1\n",
      "   5  2.4669020e+03 3.10e+00 2.85e+01  -1.0 7.37e+00    -  3.88e-02 1.32e-01h  2\n",
      "   6  3.9862883e+03 2.50e+00 2.44e+01  -1.0 1.37e+01    -  1.65e-01 1.93e-01h  1\n",
      "   7  5.3353359e+03 2.28e+00 2.07e+01  -1.0 2.31e+01    -  1.86e-01 2.24e-01h  1\n",
      "   8  6.5084124e+03 2.60e+00 1.68e+01  -1.0 2.57e+01    -  7.97e-01 2.33e-01h  1\n",
      "   9  6.7991404e+03 2.44e+00 1.63e+01  -1.0 1.49e+01    -  3.89e-02 5.34e-02h  1\n",
      "iter    objective    inf_pr   inf_du lg(mu)  ||d||  lg(rg) alpha_du alpha_pr  ls\n",
      "  10  9.0719698e+03 1.59e+00 6.25e+00  -1.0 1.53e+01    -  6.62e-01 4.22e-01h  1\n",
      "  11  9.0993248e+03 1.57e+00 1.83e+01  -1.0 7.07e+00    -  3.45e-01 8.91e-03h  1\n",
      "  12  9.1225287e+03 1.59e+00 1.94e+01  -1.0 8.76e+01    -  8.57e-03 7.71e-03h  2\n",
      "  13  1.3349358e+04 4.93e-01 1.44e+01  -1.0 4.79e+00    -  5.27e-03 7.13e-01h  1\n",
      "  14  1.5069379e+04 8.88e-16 1.53e-01  -1.0 2.02e+00    -  1.00e+00 1.00e+00h  1\n",
      "  15  1.5009470e+04 4.81e-01 6.84e-02  -1.7 4.79e+00    -  9.17e-01 1.00e+00f  1\n",
      "  16  1.5013358e+04 4.44e-16 1.33e-02  -1.7 8.60e-01    -  1.00e+00 1.00e+00h  1\n",
      "  17  1.5001704e+04 2.65e-02 5.56e-03  -2.5 1.27e+00    -  1.00e+00 9.83e-01h  1\n",
      "  18  1.5001583e+04 4.44e-16 4.10e-04  -2.5 2.00e-01    -  1.00e+00 1.00e+00h  1\n",
      "  19  1.4999916e+04 1.67e-04 3.41e-02  -3.8 2.25e-01    -  1.00e+00 9.09e-01h  1\n",
      "iter    objective    inf_pr   inf_du lg(mu)  ||d||  lg(rg) alpha_du alpha_pr  ls\n",
      "  20  1.4999799e+04 1.33e-15 3.06e-04  -3.8 5.82e-02    -  1.00e+00 1.00e+00h  1\n",
      "  21  1.4999727e+04 1.02e-04 1.42e-02  -5.7 2.49e-02    -  1.00e+00 8.64e-01h  1\n",
      "  22  1.4999717e+04 8.88e-16 1.74e-03  -5.7 7.25e-03    -  9.88e-01 1.00e+00h  1\n",
      "  23  1.4999717e+04 3.22e-16 8.91e-07  -5.7 8.76e-04    -  1.00e+00 1.00e+00h  1\n",
      "  24  1.4999716e+04 1.10e-08 1.62e-03  -8.6 3.07e-04    -  1.00e+00 9.27e-01h  1\n",
      "  25  1.4999716e+04 8.88e-16 2.32e-08  -8.6 2.71e-05    -  1.00e+00 1.00e+00f  1\n",
      "  26  1.4999716e+04 8.88e-16 1.26e-12  -9.0 2.67e-07    -  1.00e+00 1.00e+00h  1\n",
      "\n",
      "Number of Iterations....: 26\n",
      "\n",
      "                                   (scaled)                 (unscaled)\n",
      "Objective...............:   3.7499289830167766e+02    1.4999715932067105e+04\n",
      "Dual infeasibility......:   1.2556821518237598e-12    5.0227286072950391e-11\n",
      "Constraint violation....:   8.8817841970012523e-16    8.8817841970012523e-16\n",
      "Complementarity.........:   9.0926476037986225e-10    3.6370590415194491e-08\n",
      "Overall NLP error.......:   9.0926476037986225e-10    3.6370590415194491e-08\n",
      "\n",
      "\n",
      "Number of objective function evaluations             = 34\n",
      "Number of objective gradient evaluations             = 27\n",
      "Number of equality constraint evaluations            = 34\n",
      "Number of inequality constraint evaluations          = 34\n",
      "Number of equality constraint Jacobian evaluations   = 27\n",
      "Number of inequality constraint Jacobian evaluations = 27\n",
      "Number of Lagrangian Hessian evaluations             = 26\n",
      "Total CPU secs in IPOPT (w/o function evaluations)   =      0.021\n",
      "Total CPU secs in NLP function evaluations           =      0.001\n",
      "\n",
      "EXIT: Optimal Solution Found.\n"
     ]
    },
    {
     "data": {
      "text/plain": [
       "Dict{String,Any} with 8 entries:\n",
       "  \"solve_time\"         => 0.0225091\n",
       "  \"optimizer\"          => \"Ipopt\"\n",
       "  \"termination_status\" => LOCALLY_SOLVED\n",
       "  \"dual_status\"        => FEASIBLE_POINT\n",
       "  \"primal_status\"      => FEASIBLE_POINT\n",
       "  \"objective\"          => 14999.7\n",
       "  \"solution\"           => Dict{String,Any}(\"baseMVA\"=>100,\"branch\"=>Dict{String…\n",
       "  \"objective_lb\"       => -Inf"
      ]
     },
     "execution_count": 22,
     "metadata": {},
     "output_type": "execute_result"
    }
   ],
   "source": [
    "run_opf_bf(file, SOCBFPowerModel, Ipopt.Optimizer)"
   ]
  },
  {
   "cell_type": "code",
   "execution_count": null,
   "metadata": {},
   "outputs": [],
   "source": []
  }
 ],
 "metadata": {
  "kernelspec": {
   "display_name": "Julia 1.3.0",
   "language": "julia",
   "name": "julia-1.3"
  },
  "language_info": {
   "file_extension": ".jl",
   "mimetype": "application/julia",
   "name": "julia",
   "version": "1.3.0"
  }
 },
 "nbformat": 4,
 "nbformat_minor": 2
}
