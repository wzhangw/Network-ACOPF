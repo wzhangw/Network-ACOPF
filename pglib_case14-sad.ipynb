{
 "cells": [
  {
   "cell_type": "code",
   "execution_count": 1,
   "metadata": {},
   "outputs": [
    {
     "data": {
      "text/plain": [
       "MathOptInterface"
      ]
     },
     "execution_count": 1,
     "metadata": {},
     "output_type": "execute_result"
    }
   ],
   "source": [
    "using PowerModels, Gurobi, Ipopt, JuMP, COSMO, Mosek, MosekTools, MathOptInterface\n",
    "const MOI = MathOptInterface"
   ]
  },
  {
   "cell_type": "code",
   "execution_count": 5,
   "metadata": {},
   "outputs": [
    {
     "data": {
      "text/plain": [
       "\"../pglib-opf/sad/pglib_opf_case14_ieee__sad.m\""
      ]
     },
     "execution_count": 5,
     "metadata": {},
     "output_type": "execute_result"
    }
   ],
   "source": [
    "file = \"../pglib-opf/sad/pglib_opf_case14_ieee__sad.m\""
   ]
  },
  {
   "cell_type": "code",
   "execution_count": 6,
   "metadata": {},
   "outputs": [
    {
     "name": "stdout",
     "output_type": "stream",
     "text": [
      "\u001b[32m[info | PowerModels]: removing 3 cost terms from generator 4: Float64[]\u001b[39m\n",
      "\u001b[32m[info | PowerModels]: removing 1 cost terms from generator 1: [792.0951, 0.0]\u001b[39m\n",
      "\u001b[32m[info | PowerModels]: removing 3 cost terms from generator 5: Float64[]\u001b[39m\n",
      "\u001b[32m[info | PowerModels]: removing 1 cost terms from generator 2: [2326.9494, 0.0]\u001b[39m\n",
      "\u001b[32m[info | PowerModels]: removing 3 cost terms from generator 3: Float64[]\u001b[39m\n",
      "This is Ipopt version 3.13.2, running with linear solver mumps.\n",
      "NOTE: Other linear solvers might be more efficient (see Ipopt documentation).\n",
      "\n",
      "Number of nonzeros in equality constraint Jacobian...:      870\n",
      "Number of nonzeros in inequality constraint Jacobian.:      456\n",
      "Number of nonzeros in Lagrangian Hessian.............:      718\n",
      "\n",
      "Total number of variables............................:      115\n",
      "                     variables with only lower bounds:        0\n",
      "                variables with lower and upper bounds:      115\n",
      "                     variables with only upper bounds:        0\n",
      "Total number of equality constraints.................:      109\n",
      "Total number of inequality constraints...............:      108\n",
      "        inequality constraints with only lower bounds:       34\n",
      "   inequality constraints with lower and upper bounds:        0\n",
      "        inequality constraints with only upper bounds:       74\n",
      "\n",
      "iter    objective    inf_pr   inf_du lg(mu)  ||d||  lg(rg) alpha_du alpha_pr  ls\n",
      "   0  2.1649922e+01 9.42e-01 1.88e+01  -1.0 0.00e+00    -  0.00e+00 0.00e+00   0\n",
      "   1  2.4439048e+03 2.51e-01 1.33e+02  -1.0 1.81e+00    -  5.61e-03 7.33e-01H  1\n",
      "   2  2.4116636e+03 6.41e-02 3.37e+01  -1.0 1.75e+00    -  1.75e-02 7.45e-01f  1\n",
      "   3  2.3869578e+03 6.39e-02 8.61e+01  -1.0 1.68e+01    -  1.53e-01 2.87e-03f  1\n",
      "   4  2.1958124e+03 5.93e-02 2.15e+02  -1.0 5.97e+00    -  2.17e-01 7.27e-02f  1\n",
      "   5  2.4393911e+03 3.27e-02 5.33e+01  -1.0 2.98e-01    -  3.32e-01 4.48e-01h  1\n",
      "   6  2.7543149e+03 3.23e-03 6.10e+01  -1.0 1.77e-01    -  9.86e-01 9.01e-01h  1\n",
      "   7  2.7931891e+03 7.04e-06 5.90e+01  -1.0 2.01e-02    -  8.48e-01 1.00e+00h  1\n",
      "   8  2.7933967e+03 5.13e-08 3.69e-03  -1.0 4.27e-04    -  1.00e+00 1.00e+00h  1\n",
      "   9  2.7785255e+03 1.39e-04 9.54e-01  -2.5 3.51e-02    -  8.85e-01 9.82e-01f  1\n",
      "iter    objective    inf_pr   inf_du lg(mu)  ||d||  lg(rg) alpha_du alpha_pr  ls\n",
      "  10  2.7778855e+03 3.58e-06 3.21e-01  -2.5 3.29e-03    -  9.77e-01 1.00e+00h  1\n",
      "  11  2.7777591e+03 1.16e-08 5.02e-05  -2.5 2.96e-04    -  1.00e+00 1.00e+00h  1\n",
      "  12  2.7773246e+03 5.27e-08 1.15e-04  -3.8 9.14e-04    -  1.00e+00 1.00e+00f  1\n",
      "  13  2.7772998e+03 1.13e-10 4.57e-07  -5.7 5.23e-05    -  1.00e+00 1.00e+00h  1\n",
      "In iteration 13, 1 Slack too small, adjusting variable bound\n",
      "  14  2.7772996e+03 3.16e-11 2.99e+01  -8.6 6.19e-07    -  1.00e+00 7.21e-01h  1\n",
      "  15  2.7772995e+03 3.55e-15 9.59e-10  -8.6 1.37e-07    -  1.00e+00 1.00e+00h  1\n",
      "\n",
      "Number of Iterations....: 15\n",
      "\n",
      "                                   (scaled)                 (unscaled)\n",
      "Objective...............:   1.1935367027212378e+02    2.7772995142751629e+03\n",
      "Dual infeasibility......:   9.5931745880406538e-10    2.2322831851736448e-08\n",
      "Constraint violation....:   3.5527136788005009e-15    3.5527136788005009e-15\n",
      "Complementarity.........:   3.3584215865563391e-09    7.8148770957843220e-08\n",
      "Overall NLP error.......:   3.3584215865563391e-09    7.8148770957843220e-08\n",
      "\n",
      "\n",
      "Number of objective function evaluations             = 17\n",
      "Number of objective gradient evaluations             = 16\n",
      "Number of equality constraint evaluations            = 17\n",
      "Number of inequality constraint evaluations          = 17\n",
      "Number of equality constraint Jacobian evaluations   = 16\n",
      "Number of inequality constraint Jacobian evaluations = 16\n",
      "Number of Lagrangian Hessian evaluations             = 15\n",
      "Total CPU secs in IPOPT (w/o function evaluations)   =      0.030\n",
      "Total CPU secs in NLP function evaluations           =      0.001\n",
      "\n",
      "EXIT: Optimal Solution Found.\n"
     ]
    },
    {
     "data": {
      "text/plain": [
       "Dict{String,Any} with 8 entries:\n",
       "  \"solve_time\"         => 0.0325458\n",
       "  \"optimizer\"          => \"Ipopt\"\n",
       "  \"termination_status\" => LOCALLY_SOLVED\n",
       "  \"dual_status\"        => FEASIBLE_POINT\n",
       "  \"primal_status\"      => FEASIBLE_POINT\n",
       "  \"objective\"          => 2777.3\n",
       "  \"solution\"           => Dict{String,Any}(\"baseMVA\"=>100.0,\"branch\"=>Dict{Stri…\n",
       "  \"objective_lb\"       => -Inf"
      ]
     },
     "execution_count": 6,
     "metadata": {},
     "output_type": "execute_result"
    }
   ],
   "source": [
    "ipopt_rec = run_opf(file, ACRPowerModel, Ipopt.Optimizer)"
   ]
  },
  {
   "cell_type": "code",
   "execution_count": 7,
   "metadata": {},
   "outputs": [
    {
     "name": "stdout",
     "output_type": "stream",
     "text": [
      "\u001b[32m[info | PowerModels]: removing 3 cost terms from generator 4: Float64[]\u001b[39m\n",
      "\u001b[32m[info | PowerModels]: removing 1 cost terms from generator 1: [792.0951, 0.0]\u001b[39m\n",
      "\u001b[32m[info | PowerModels]: removing 3 cost terms from generator 5: Float64[]\u001b[39m\n",
      "\u001b[32m[info | PowerModels]: removing 1 cost terms from generator 2: [2326.9494, 0.0]\u001b[39m\n",
      "\u001b[32m[info | PowerModels]: removing 3 cost terms from generator 3: Float64[]\u001b[39m\n",
      "Problem\n",
      "  Name                   :                 \n",
      "  Objective sense        : min             \n",
      "  Type                   : CONIC (conic optimization problem)\n",
      "  Constraints            : 910             \n",
      "  Cones                  : 40              \n",
      "  Scalar variables       : 511             \n",
      "  Matrix variables       : 1               \n",
      "  Integer variables      : 0               \n",
      "\n",
      "Optimizer started.\n",
      "Presolve started.\n",
      "Linear dependency checker started.\n",
      "Linear dependency checker terminated.\n",
      "Eliminator started.\n",
      "Freed constraints in eliminator : 95\n",
      "Eliminator terminated.\n",
      "Eliminator started.\n",
      "Freed constraints in eliminator : 0\n",
      "Eliminator terminated.\n",
      "Eliminator - tries                  : 2                 time                   : 0.00            \n",
      "Lin. dep.  - tries                  : 1                 time                   : 0.00            \n",
      "Lin. dep.  - number                 : 90              \n",
      "Presolve terminated. Time: 0.00    \n",
      "Problem\n",
      "  Name                   :                 \n",
      "  Objective sense        : min             \n",
      "  Type                   : CONIC (conic optimization problem)\n",
      "  Constraints            : 910             \n",
      "  Cones                  : 40              \n",
      "  Scalar variables       : 511             \n",
      "  Matrix variables       : 1               \n",
      "  Integer variables      : 0               \n",
      "\n",
      "Optimizer  - threads                : 4               \n",
      "Optimizer  - solved problem         : the primal      \n",
      "Optimizer  - Constraints            : 582\n",
      "Optimizer  - Cones                  : 39\n",
      "Optimizer  - Scalar variables       : 390               conic                  : 257             \n",
      "Optimizer  - Semi-definite variables: 1                 scalarized             : 406             \n",
      "Factor     - setup time             : 0.01              dense det. time        : 0.00            \n",
      "Factor     - ML order time          : 0.00              GP order time          : 0.00            \n",
      "Factor     - nonzeros before factor : 8.52e+04          after factor           : 8.96e+04        \n",
      "Factor     - dense dim.             : 2                 flops                  : 2.36e+07        \n",
      "ITE PFEAS    DFEAS    GFEAS    PRSTATUS   POBJ              DOBJ              MU       TIME  \n",
      "0   5.6e+00  2.3e+03  7.4e+01  0.00e+00   5.049480198e+02   4.320480198e+02   1.0e+00  0.01  \n",
      "1   8.6e-01  3.5e+02  2.9e+01  -1.00e+00  -9.843807942e+02  -1.051767905e+03  1.5e-01  0.02  \n",
      "2   4.1e-01  1.7e+02  1.8e+01  -9.67e-01  -2.066557047e+03  -2.122435045e+03  7.2e-02  0.02  \n",
      "3   3.1e-01  1.3e+02  1.3e+01  -3.99e-01  -1.466506768e+03  -1.512517664e+03  5.4e-02  0.03  \n",
      "4   6.9e-02  2.9e+01  1.7e+00  -1.94e-02  -5.227861476e+02  -5.365793519e+02  1.2e-02  0.04  \n",
      "5   2.8e-02  1.1e+01  4.8e-01  1.03e+00   -2.187416676e+02  -2.245528534e+02  4.9e-03  0.04  \n",
      "6   1.6e-02  6.7e+00  3.9e-01  3.40e-02   -2.125726391e+02  -2.179472728e+02  2.9e-03  0.05  \n",
      "7   5.2e-03  2.1e+00  1.4e-01  -2.66e-01  3.085568647e+02   3.070663959e+02   9.2e-04  0.06  \n",
      "8   4.4e-03  1.8e+00  1.1e-01  3.88e-01   4.550029280e+02   4.537780495e+02   7.8e-04  0.06  \n",
      "9   2.6e-03  1.1e+00  5.3e-02  5.84e-01   8.432529569e+02   8.425265895e+02   4.6e-04  0.07  \n",
      "10  9.3e-04  3.8e-01  1.3e-02  7.03e-01   1.307185713e+03   1.306975254e+03   1.6e-04  0.08  \n",
      "11  7.0e-04  2.9e-01  1.1e-02  2.27e-01   1.368923008e+03   1.369057733e+03   1.2e-04  0.08  \n",
      "12  2.9e-04  1.2e-01  4.1e-03  2.41e-01   1.698500367e+03   1.698879547e+03   5.1e-05  0.09  \n"
     ]
    },
    {
     "name": "stderr",
     "output_type": "stream",
     "text": [
      "┌ Warning: MathOptInterface.VariablePrimalStart() is not supported by MathOptInterface.Bridges.LazyBridgeOptimizer{MosekModel}. This information will be discarded.\n",
      "└ @ MathOptInterface.Utilities /home/weiqizhang/.julia/packages/MathOptInterface/RmalA/src/Utilities/copy.jl:140\n"
     ]
    },
    {
     "name": "stdout",
     "output_type": "stream",
     "text": [
      "13  1.1e-04  4.4e-02  1.1e-03  5.94e-01   1.959442434e+03   1.959673931e+03   1.9e-05  0.09  \n",
      "14  7.4e-05  3.1e-02  6.7e-04  8.40e-01   2.012461408e+03   2.012696975e+03   1.3e-05  0.10  \n",
      "15  6.1e-05  2.5e-02  7.1e-04  -1.22e-01  1.983046344e+03   1.983541834e+03   1.1e-05  0.11  \n",
      "16  1.8e-05  7.5e-03  3.4e-04  -2.41e-01  2.020988345e+03   2.022764026e+03   3.2e-06  0.11  \n",
      "17  1.1e-05  4.5e-03  1.2e-04  -5.91e-01  2.369074589e+03   2.369676264e+03   1.9e-06  0.12  \n",
      "18  1.7e-06  7.2e-04  8.8e-06  3.86e-01   2.690804018e+03   2.690928655e+03   3.1e-07  0.13  \n",
      "19  9.2e-08  3.8e-05  1.6e-07  9.27e-01   2.769383913e+03   2.769399928e+03   1.6e-08  0.13  \n",
      "20  4.8e-08  2.0e-05  5.9e-08  1.00e+00   2.771887469e+03   2.771895783e+03   8.4e-09  0.15  \n",
      "21  4.7e-08  2.0e-05  5.9e-08  1.00e+00   2.771908638e+03   2.771916889e+03   8.4e-09  0.15  \n",
      "22  4.7e-08  2.0e-05  5.9e-08  1.00e+00   2.771908638e+03   2.771916889e+03   8.4e-09  0.16  \n",
      "23  4.7e-08  1.9e-05  5.7e-08  1.00e+00   2.771945616e+03   2.771953748e+03   8.2e-09  0.17  \n",
      "24  4.6e-08  1.9e-05  5.7e-08  1.00e+00   2.771963854e+03   2.771971927e+03   8.2e-09  0.17  \n",
      "25  4.6e-08  1.9e-05  5.7e-08  1.00e+00   2.771972911e+03   2.771980955e+03   8.2e-09  0.18  \n",
      "26  4.6e-08  1.9e-05  5.6e-08  1.00e+00   2.771974039e+03   2.771982080e+03   8.2e-09  0.19  \n",
      "27  4.6e-08  1.9e-05  5.6e-08  1.00e+00   2.771974603e+03   2.771982642e+03   8.2e-09  0.19  \n",
      "28  4.6e-08  1.9e-05  5.6e-08  1.00e+00   2.771974885e+03   2.771982923e+03   8.2e-09  0.20  \n",
      "29  4.6e-08  1.9e-05  5.6e-08  1.00e+00   2.771974885e+03   2.771982923e+03   8.2e-09  0.21  \n",
      "Optimizer terminated. Time: 0.22    \n",
      "\n"
     ]
    },
    {
     "data": {
      "text/plain": [
       "Dict{String,Any} with 8 entries:\n",
       "  \"solve_time\"         => 0.215516\n",
       "  \"optimizer\"          => \"Mosek\"\n",
       "  \"termination_status\" => SLOW_PROGRESS\n",
       "  \"dual_status\"        => FEASIBLE_POINT\n",
       "  \"primal_status\"      => FEASIBLE_POINT\n",
       "  \"objective\"          => 2771.97\n",
       "  \"solution\"           => Dict{String,Any}(\"baseMVA\"=>100.0,\"branch\"=>Dict{Stri…\n",
       "  \"objective_lb\"       => 0.0"
      ]
     },
     "execution_count": 7,
     "metadata": {},
     "output_type": "execute_result"
    }
   ],
   "source": [
    "mosek_sdp = run_opf(file, SDPWRMPowerModel, Mosek.Optimizer)"
   ]
  },
  {
   "cell_type": "code",
   "execution_count": 5,
   "metadata": {},
   "outputs": [
    {
     "name": "stdout",
     "output_type": "stream",
     "text": [
      "\u001b[32m[info | PowerModels]: removing 3 cost terms from generator 4: Float64[]\u001b[39m\n",
      "\u001b[32m[info | PowerModels]: removing 1 cost terms from generator 1: [792.0951, 0.0]\u001b[39m\n",
      "\u001b[32m[info | PowerModels]: removing 3 cost terms from generator 5: Float64[]\u001b[39m\n",
      "\u001b[32m[info | PowerModels]: removing 1 cost terms from generator 2: [2326.9494, 0.0]\u001b[39m\n",
      "\u001b[32m[info | PowerModels]: removing 3 cost terms from generator 3: Float64[]\u001b[39m\n",
      "Academic license - for non-commercial use only\n",
      "Academic license - for non-commercial use only\n",
      "Gurobi Optimizer version 9.0.2 build v9.0.2rc0 (linux64)\n",
      "Optimize a model with 188 rows, 144 columns and 581 nonzeros\n",
      "Model fingerprint: 0xef9a6558\n",
      "Model has 60 quadratic constraints\n",
      "Coefficient statistics:\n",
      "  Matrix range     [2e-01, 2e+01]\n",
      "  QMatrix range    [1e+00, 1e+00]\n",
      "  Objective range  [8e+02, 2e+03]\n",
      "  Bounds range     [6e-02, 7e+00]\n",
      "  RHS range        [2e-02, 9e-01]\n",
      "  QRHS range       [3e-01, 4e+01]\n",
      "Presolve removed 6 rows and 7 columns\n",
      "Presolve time: 0.00s\n",
      "Presolved: 475 rows, 212 columns, 939 nonzeros\n",
      "Presolved model has 55 second-order cone constraints\n",
      "Ordering time: 0.00s\n",
      "\n",
      "Barrier statistics:\n",
      " AA' NZ     : 4.488e+03\n",
      " Factor NZ  : 7.247e+03\n",
      " Factor Ops : 1.427e+05 (less than 1 second per iteration)\n",
      " Threads    : 1\n",
      "\n",
      "                  Objective                Residual\n",
      "Iter       Primal          Dual         Primal    Dual     Compl     Time\n",
      "   0   7.25123247e+03 -4.33017153e+04  2.32e+00 1.01e+03  1.51e+03     0s\n",
      "   1   2.01464636e+03 -8.72617153e+04  2.44e-01 9.41e+01  2.65e+02     0s\n",
      "   2   1.78613629e+03 -2.71736097e+04  1.38e-01 1.68e+01  7.76e+01     0s\n",
      "   3   1.74127148e+03 -3.86436944e+03  5.44e-02 2.06e+00  1.45e+01     0s\n",
      "   4   1.79521132e+03  8.14774206e+02  3.33e-02 3.29e-01  3.65e+00     0s\n",
      "   5   2.14206798e+03  1.67303195e+03  8.64e-03 8.94e-02  1.30e+00     0s\n",
      "   6   2.17840023e+03  2.10749307e+03  6.21e-04 6.95e-03  1.53e-01     0s\n",
      "   7   2.17908020e+03  2.15019851e+03  1.53e-04 2.72e-03  5.78e-02     0s\n",
      "   8   2.17955348e+03  2.17313223e+03  3.40e-06 4.88e-04  1.16e-02     0s\n",
      "   9   2.17927158e+03  2.17882860e+03  7.64e-07 1.41e-05  8.11e-04     0s\n",
      "  10   2.17918886e+03  2.17917238e+03  6.05e-08 2.90e-07  3.12e-05     0s\n",
      "  11   2.17918226e+03  2.17918107e+03  1.04e-08 3.17e-07  2.39e-06     0s\n",
      "  12   2.17918160e+03  2.17918135e+03  2.35e-09 1.49e-08  4.99e-07     0s\n",
      "\n",
      "Barrier solved model in 12 iterations and 0.01 seconds\n",
      "Optimal objective 2.17918160e+03\n",
      "\n"
     ]
    },
    {
     "data": {
      "text/plain": [
       "Dict{String,Any} with 8 entries:\n",
       "  \"solve_time\"         => 0.0123188\n",
       "  \"optimizer\"          => \"Gurobi\"\n",
       "  \"termination_status\" => OPTIMAL\n",
       "  \"dual_status\"        => NO_SOLUTION\n",
       "  \"primal_status\"      => FEASIBLE_POINT\n",
       "  \"objective\"          => 2179.18\n",
       "  \"solution\"           => Dict{String,Any}(\"baseMVA\"=>100.0,\"branch\"=>Dict{Stri…\n",
       "  \"objective_lb\"       => -Inf"
      ]
     },
     "execution_count": 5,
     "metadata": {},
     "output_type": "execute_result"
    }
   ],
   "source": [
    "grb_soc = run_opf(file, SOCWRPowerModel, Gurobi.Optimizer)"
   ]
  },
  {
   "cell_type": "code",
   "execution_count": null,
   "metadata": {},
   "outputs": [],
   "source": []
  }
 ],
 "metadata": {
  "kernelspec": {
   "display_name": "Julia 1.3.0",
   "language": "julia",
   "name": "julia-1.3"
  },
  "language_info": {
   "file_extension": ".jl",
   "mimetype": "application/julia",
   "name": "julia",
   "version": "1.3.0"
  }
 },
 "nbformat": 4,
 "nbformat_minor": 2
}
